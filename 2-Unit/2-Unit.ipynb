{
 "cells": [
  {
   "cell_type": "markdown",
   "metadata": {},
   "source": [
    "# 6-Degişken_Türleri\n"
   ]
  },
  {
   "cell_type": "code",
   "execution_count": null,
   "metadata": {
    "vscode": {
     "languageId": "javascript"
    }
   },
   "outputs": [],
   "source": [
    "// var urunAdi =\"iphone 13\";\n",
    "// let urunfiyat = 15000;\n",
    "// console.log(typeof urunAdi);\n",
    "// console.log(typeof urunfiyat);\n",
    "// //\n",
    "\n",
    "// let sayi1 = 10 ;\n",
    "// let sayi2 = 20 ;\n",
    "// console.log(sayi1.toString()+ sayi2.toString()) ;\n",
    "// //\n",
    "\n",
    "// let isim = \"Furkan\";\n",
    "// let soyad = \"GOLD\" ;\n",
    "// console.log(isim + \" \" + soyad);\n",
    "// //\n",
    "\n",
    "// let sinavNotu = 40 ;\n",
    "// let basarilimi = (sinavNotu >= 50) ; \n",
    "// console.log(basarilimi) ;\n",
    "// //\n",
    "\n",
    "// yas = \"\";\n",
    "// console.log(yas); // bosluk atar\n",
    "// console.log(typeof yas)"
   ]
  },
  {
   "cell_type": "markdown",
   "metadata": {},
   "source": [
    "# 7-Uygulama_Degişkenler"
   ]
  },
  {
   "cell_type": "code",
   "execution_count": null,
   "metadata": {
    "vscode": {
     "languageId": "javascript"
    }
   },
   "outputs": [],
   "source": [
    "// let stu1_name = \"Ada\";\n",
    "// let stu1_lastname = \"Bilgi\";\n",
    "// let stu1_birthdate = \"2010\";\n",
    "// let stu1_math1 = 70;\n",
    "// let stu1_math2 = 70;\n",
    "// let stu1_math3 = 80;\n",
    "// let stu1_avrg = (stu1_math1 + stu1_math2 + stu1_math3) / 3 ;\n",
    "// console.log(parseFloat(stu1_avrg))\n",
    "// console.log(stu1_avrg >=50);\n",
    "\n",
    "// let stu2_name = \"Fuat\";\n",
    "// let stu2_lastname = \"Bilgi\";\n",
    "// let stu2_birthdate = \"2011\";\n",
    "// let stu2_math1 = 40;\n",
    "// let stu2_math2 = 40;\n",
    "// let stu2_math3 = 50;\n",
    "// let stu2_avrg = (stu2_math1 + stu2_math2 + stu2_math3) / 3 ;\n",
    "// console.log(parseInt(stu2_avrg))\n",
    "// console.log(stu2_avrg >=50);\n",
    "\n",
    "// let n_Year = new Date().getFullYear();\n",
    "// let stu1_age = n_Year -parseInt(stu1_birthdate);\n",
    "// let stu2_age = n_Year -parseInt(stu2_birthdate);\n",
    "\n",
    "// console.log(stu1_age)\n",
    "// console.log(stu2_age)"
   ]
  },
  {
   "cell_type": "markdown",
   "metadata": {},
   "source": [
    "# 8-Operatorler"
   ]
  },
  {
   "cell_type": "code",
   "execution_count": null,
   "metadata": {
    "vscode": {
     "languageId": "javascript"
    }
   },
   "outputs": [],
   "source": [
    "// let sonuc ;\n",
    "// let a = 10 , b= 20 , c = 30 ;\n",
    "// //Aritmetik\n",
    "// sonuc = a + b; \n",
    "// sonuc = a - b; \n",
    "// sonuc = a * b; \n",
    "// sonuc = a / b; \n",
    "// sonuc = a % b; \n",
    "// sonuc = a ++ ; \n",
    "\n",
    "// // Atama \n",
    "// sonuc = a;\n",
    "// sonuc += a \n",
    "// sonuc -= a \n",
    "// sonuc *= a \n",
    "\n",
    "// //karsılastırma \n",
    "// sonuc = (a == b)\n",
    "// sonuc = (a != b)\n",
    "// sonuc = (3 === 3) // deger tip \n",
    "// sonuc = (a >= b)\n",
    "// sonuc = (a <= b)\n",
    "\n",
    "// //Mantıksal \n",
    "\n",
    "// console.log(sonuc);\n"
   ]
  },
  {
   "cell_type": "markdown",
   "metadata": {},
   "source": [
    "# 9-If/Else Kosul ifadeleri-1\n",
    "\n"
   ]
  },
  {
   "cell_type": "code",
   "execution_count": null,
   "metadata": {
    "vscode": {
     "languageId": "javascript"
    }
   },
   "outputs": [],
   "source": [
    "// let username = \"furkangold\"\n",
    "// let password = \"1234\";\n",
    "\n",
    "// if (username == \"furkangold\"){\n",
    "//     if (password == \"1234\"){\n",
    "//         console.log(\"uygulamaya giriş yapıldı.\");\n",
    "//     } else {\n",
    "//         console.log(\"parola yanliş\");\n",
    "//     }\n",
    "// }\n",
    "// else {\n",
    "//     console.log(\"Kullanıcı adi hatali\");\n",
    "// }"
   ]
  },
  {
   "cell_type": "markdown",
   "metadata": {},
   "source": [
    "# 10- If/Else Kosul ifadeler-2"
   ]
  },
  {
   "cell_type": "code",
   "execution_count": null,
   "metadata": {
    "vscode": {
     "languageId": "javascript"
    }
   },
   "outputs": [],
   "source": [
    "// let mezuniyet = \"üniversite\";\n",
    "// let yas = 20 ;\n",
    "\n",
    "// if (yas >= 18 && ( mezuniyet == 'lise' || mezuniyet == 'üniversite' ) ) { \n",
    "//     console.log(\"ehliyet alabilir\");\n",
    "// }else {\n",
    "//     console.log(\"Ehliyet alamaz\");\n",
    "// }"
   ]
  },
  {
   "cell_type": "markdown",
   "metadata": {},
   "source": [
    "# 11-Uygulama If/Else  "
   ]
  },
  {
   "cell_type": "code",
   "execution_count": null,
   "metadata": {
    "vscode": {
     "languageId": "javascript"
    }
   },
   "outputs": [],
   "source": [
    "// let sayi = 11 ;\n",
    "// if (sayi> 10 && sayi<50){\n",
    "//     console.log('sayi 10-50 arsındadır');\n",
    "// }else {\n",
    "//     console.log('sayi 10-50 arasında degildir');\n",
    "// }\n",
    "// ////\n",
    "// let sayi = 21;\n",
    "// if (sayi % 2 == 1 || sayi > 0){\n",
    "//     console.log('sayi pozitif tek sayidir');\n",
    "// }\n",
    "\n",
    "// let x = 60 , y = 80, z = 70 ;\n",
    "\n",
    "// if (x > y && x > z){\n",
    "//     console.log('x en Büyük');\n",
    "// }else if (y > x && y > z){\n",
    "//     console.log('y en Büyük');\n",
    "// }else if (z > x && z > y){\n",
    "//     console.log('z en Büyük');\n",
    "// }else {\n",
    "//     console.log(\"sayilar eşit\")\n",
    "// }\n",
    "\n",
    "\n",
    "// let vize1 = 50 ;\n",
    "// let vize2 = 60 ;\n",
    "// let final = 70 ;\n",
    "\n",
    "// let avg = (((vize1 + vize2) / 2) * 0.4) + (final * 0.6);\n",
    "// console.log(\"You Average: \" + avg);\n",
    "\n",
    "// if (avg >= 50) {\n",
    "//     console.log(\"Accept\");\n",
    "// }else {\n",
    "//     console.log(\"Not Accept\");\n",
    "// }\n",
    "\n",
    "// if (avg >= 50 && final >= 50) {\n",
    "//     console.log(\"Accept\");\n",
    "// }else {\n",
    "//     console.log(\"Not Accept\");\n",
    "// }\n",
    "\n",
    "// if (avg >= 50 && final >= 70) {\n",
    "//     console.log(\"Accept\");\n",
    "// }else {\n",
    "//     console.log(\"Not Accept\");\n",
    "// }"
   ]
  },
  {
   "cell_type": "markdown",
   "metadata": {},
   "source": [
    "# 12-String"
   ]
  },
  {
   "cell_type": "code",
   "execution_count": null,
   "metadata": {
    "vscode": {
     "languageId": "javascript"
    }
   },
   "outputs": [],
   "source": [
    "//let name = \"Furkan\";\n",
    "// let lastname = \"GOLD\";\n",
    "// let yas = 66 ;\n",
    "// let sehir = \"Çankırı\";\n",
    "\n",
    "// let mesaj = \"Benim adım \" + name + ' soyadım '+ lastname + ' . ' + sehir+ ' \\'de yaşıyorum.'+ ' Emeklilige ' + (65-yas)+ ' yılım kaldı. ';\n",
    "// mesaj = `Benim adım ${name} ve soyadım ${lastname}. ${sehir}'de yaşıyorum. Emeklilige ${65-yas } yılım kaldı.`;\n",
    "\n",
    "// //ternary\n",
    "// let emeklilik = (65-yas> 0)? \"Emeklilige \" + (65-yas)+ \"yıl kaldı.\" : \"Zaten Emeklisiniz\"\n",
    "// mesaj = `Benim adım ${name} ve soyadım ${lastname}. ${sehir}'de yaşıyorum. ${emeklilik}`;\n",
    "\n",
    "// console.log(mesaj);"
   ]
  },
  {
   "cell_type": "markdown",
   "metadata": {},
   "source": [
    "# 13-String Method"
   ]
  },
  {
   "cell_type": "markdown",
   "metadata": {},
   "source": [
    "w3schools.com"
   ]
  },
  {
   "cell_type": "code",
   "execution_count": null,
   "metadata": {
    "vscode": {
     "languageId": "javascript"
    }
   },
   "outputs": [],
   "source": [
    "// let kursAdi = \"Komple Uygulamalı Web Geliştirme Eğitimi\";\n",
    "\n",
    "// let sonuc ;\n",
    "\n",
    "// sonuc = kursAdi.toLocaleLowerCase();\n",
    "// sonuc = kursAdi.toUpperCase();\n",
    "// sonuc = kursAdi.length;\n",
    "// sonuc = kursAdi[1];\n",
    "// sonuc = kursAdi.slice(0,6);\n",
    "// sonuc = kursAdi.slice(10);\n",
    "\n",
    "// sonuc = kursAdi.substring(0,6);\n",
    "// sonuc = kursAdi.substring(10);\n",
    "\n",
    "\n",
    "// console.log(sonuc);"
   ]
  },
  {
   "cell_type": "markdown",
   "metadata": {},
   "source": [
    "# 14-Uygulama:String"
   ]
  },
  {
   "cell_type": "code",
   "execution_count": null,
   "metadata": {
    "vscode": {
     "languageId": "javascript"
    }
   },
   "outputs": [],
   "source": [
    "//let url = \"https://www.furkangold.com/\";\n",
    "// let kursAdi = \"Komple Web Geliştirme Kursu\";\n",
    "\n",
    "// let result;\n",
    "// result = url.length;\n",
    "// result = kursAdi.split(\" \").length;\n",
    "// result =url.startsWith(\"https\");\n",
    "\n",
    "\n",
    "// if ( kursAdi.indexOf(\"Eğitimi\") > -1 ){\n",
    "//     console.log(\"Evet var\");\n",
    "// }else {\n",
    "//     console.log(\"Hayır yok\");\n",
    "// }\n",
    "\n",
    "// kursAdi = kursAdi.toLocaleLowerCase();\n",
    "// kursAdi = kursAdi.replaceAll(\" \", \"-\");\n",
    "// sonuc = `${url}/${kursAdi}`;\n",
    "// console.log(result)\n"
   ]
  },
  {
   "cell_type": "markdown",
   "metadata": {},
   "source": [
    "# 15-Numbers\n"
   ]
  },
  {
   "cell_type": "code",
   "execution_count": null,
   "metadata": {
    "vscode": {
     "languageId": "javascript"
    }
   },
   "outputs": [],
   "source": [
    "//let sonuc;\n",
    "\n",
    "// sonuc = 10;\n",
    "// sonuc = \"10\";\n",
    "// sonuc = Number(\"10\");\n",
    "// sonuc = parseInt(\"10.6\");\n",
    "// sonuc = parseFloat(\"10.6\");\n",
    "// sonuc = parseInt(\"10a\");\n",
    "// sonuc = parseInt(\"a10\");\n",
    "\n",
    "// sonuc = isNaN(\"10\");\n",
    "\n",
    "// let sayi = 15.12355467;\n",
    "\n",
    "// sonuc = sayi.toPrecision(5);\n",
    "// sonuc = sayi.toFixed(5);\n",
    "\n",
    "// sonuc = Math.round(2.4);\n",
    "// sonuc = Math.round(2.6);\n",
    "// sonuc = Math.ceil(2.2);\n",
    "// sonuc = Math.floor(2.6);\n",
    "// sonuc = Math.sqrt(25);\n",
    "// sonuc = Math.pow(2,3);\n",
    "// sonuc = Math.abs(-10);\n",
    "// sonuc = Math.min(4,6,8,3,9);\n",
    "// sonuc = Math.max(4,6,8,3,9);\n",
    "// sonuc = Math.floor(Math.random() * 100) + 50;\n",
    "\n",
    "// console.log(typeof sonuc);\n",
    "// console.log(sonuc);"
   ]
  },
  {
   "cell_type": "markdown",
   "metadata": {},
   "source": [
    "# 16 Date & Time"
   ]
  },
  {
   "cell_type": "markdown",
   "metadata": {},
   "source": [
    "w3school"
   ]
  },
  {
   "cell_type": "code",
   "execution_count": null,
   "metadata": {
    "vscode": {
     "languageId": "javascript"
    }
   },
   "outputs": [],
   "source": [
    "// let now = new Date();\n",
    "\n",
    "// //Get MEthods\n",
    "// result = now;\n",
    "// result = now.getDate();\n",
    "// result = now.getDay();\n",
    "// result = now.getFullYear();\n",
    "// result = now.getHours();\n",
    "// result = now.getTime();\n",
    "\n",
    "// //Set Method\n",
    "\n",
    "// now.setFullYear(2025);\n",
    "// now.setMonth(7);         //0: Ocak\n",
    "// now.setDate(15);\n",
    "\n",
    "// result = now;\n",
    "\n",
    "// let birthdate = new Date(1990,5,15);\n",
    "\n",
    "// result = now.getFullYear() - birthdate.getFullYear();\n",
    "\n",
    "// let milisecond = now - birthdate;\n",
    "// let second = milisecond / 1000;\n",
    "// let minute = second / 60 ;\n",
    "// let hour = minute / 60 ;\n",
    "// let day = hour / 24 ;\n",
    "\n",
    "// result = day;\n",
    "\n",
    "// console.log(result)"
   ]
  },
  {
   "cell_type": "markdown",
   "metadata": {},
   "source": [
    "# 17- Diziler"
   ]
  },
  {
   "cell_type": "code",
   "execution_count": null,
   "metadata": {
    "vscode": {
     "languageId": "javascript"
    }
   },
   "outputs": [],
   "source": [
    "// // let product1 = \"iphone 12\";\n",
    "// // let product2 = \"iphone 13\";\n",
    "// // let product3 = \"iphone 14\";\n",
    "// let product1 = [\"iphone 12\",9000,\"gold\"];\n",
    "// let product2 = [\n",
    "//     \"iphone 13\",\n",
    "//     12000,\n",
    "//     [\"black\",\"blue\",\"white\"]\n",
    "// ]\n",
    "// let product3 = [];\n",
    "// product3[0] = \"iphone 14\"\n",
    "// product3[1] = 20000\n",
    "// product3[2] = \"blue\"\n",
    "\n",
    "// let products = [\"iphone 12 \",\"iphone 13 \",\"iphone 14 \"];\n",
    "// let prices = [9000,12000,20000];\n",
    "// let colors = [\"gold\", \"black\" , \"white\"];\n",
    "\n",
    "\n",
    "\n",
    "// console.log(products[0]);\n",
    "// console.log(products[1]);\n",
    "// console.log(products[2]);\n",
    "\n",
    "// console.log(`${products[0]}-${prices[0]}-${colors[0]} `);\n",
    "// console.log(`${products[1]}-${prices[1]}-${colors[1]} `);\n",
    "// console.log(`${products[2]}-${prices[2]}-${colors[2]} `);"
   ]
  },
  {
   "cell_type": "markdown",
   "metadata": {},
   "source": [
    "# 18- Diziler"
   ]
  },
  {
   "cell_type": "code",
   "execution_count": null,
   "metadata": {
    "vscode": {
     "languageId": "javascript"
    }
   },
   "outputs": [],
   "source": [
    "// let students = [\"çınar\", \"yigit\", \"ada\"];\n",
    "// let sonuc;\n",
    "\n",
    "// result = students.length;\n",
    "// //array to str \n",
    "// result = students.toString();\n",
    "// result = students.join(\" \");\n",
    "\n",
    "// //stu del\n",
    "// result = students.pop();   // son elemean siliinir ve silinen eleman geri döndürülür.\n",
    "// result = students.shift(); // ilk eleman silinir\n",
    "\n",
    "// //eleman ekleme \n",
    "// result = students.push(\"sena\");  //dizinin sonuna eleman eklenir\n",
    "// result = students.unshift(\"sena\"); \n",
    "\n",
    "// let brands1 = [\"mazda\", \"toyota\"];\n",
    "// let brands2 = [\"opel\", \"renault\"];\n",
    "// let brands3 = [\"mercedes\"];\n",
    "\n",
    "// result = brands1.concat(brands2, brands3);\n",
    "// result = brands1.splice(0,1,\"bmw\",\"audi\");\n",
    "// result = brands1.splice(0,1);\n",
    "\n",
    "// console.log(result);"
   ]
  },
  {
   "cell_type": "markdown",
   "metadata": {},
   "source": [
    "# 19- Uygulama: Diziler "
   ]
  },
  {
   "cell_type": "code",
   "execution_count": null,
   "metadata": {
    "vscode": {
     "languageId": "javascript"
    }
   },
   "outputs": [],
   "source": [
    "// let fruits = [\"Elma\",\"Armut\",\"Muz\",\"Çilek\"];\n",
    "// let result;\n",
    "\n",
    "// result = fruits.length;\n",
    "// //\n",
    "// console.log(fruits.length);\n",
    "// //\n",
    "// console.log(fruits[0]);\n",
    "// console.log(fruits[fruits.length-1]);\n",
    "// //\n",
    "// console.log(fruits.includes(\"Elma\"));\n",
    "// console.log(fruits.indexOf(\"Elma\"));\n",
    "// //\n",
    "// fruits[fruits.length] = \"Kiraz\";\n",
    "// fruitsfruits.push(\"Kiraz\");\n",
    "// console.log(fruits);\n",
    "// //\n",
    "// fruits.pop();\n",
    "// fruits.pop();\n",
    "\n",
    "// fruits.splice(fruits.length-2,2);\n",
    "// console.log(fruits);\n",
    "\n",
    "// let ogr1 = [\n",
    "//     \"Yiğit\",\n",
    "//     \"Bilgi\",\n",
    "//     2010,\n",
    "//     [70,60,80]\n",
    "// ];\n",
    "// let ogr2 = [\n",
    "//     \"Buse\",\n",
    "//     \"Gold\",\n",
    "//     2011,\n",
    "//     [40,90,10]\n",
    "// ];\n",
    "// let ogr3 = [\n",
    "//     \"Furkan\",\n",
    "//     \"Bilgi\",\n",
    "//     2013,\n",
    "//     [40,60,20]\n",
    "// ];\n",
    "\n",
    "// let ogrenciler = [ogr1,ogr2,ogr3];\n",
    "\n",
    "// let yigit_yas = new Date().getFullYear() - ogrenciler[0][2];\n",
    "// let buse_yas = new Date().getFullYear() - ogrenciler[1][2];\n",
    "// let furkan_yas = new Date().getFullYear() - ogrenciler[2][2];\n",
    "\n",
    "// let yigit_not  = (ogrenciler[0][3][0] + ogrenciler[0][3][1] + ogrenciler[0][3][2] ) / 3;\n",
    "// let buse_not   = (ogrenciler[1][3][0] + ogrenciler[1][3][1] + ogrenciler[1][3][2] ) / 3;\n",
    "// let furkan_not = (ogrenciler[2][3][0] + ogrenciler[2][3][1] + ogrenciler[2][3][2] ) / 3;\n",
    "\n",
    "// console.log(yigit_yas,furkan_yas,buse_yas);\n",
    "// console.log(yigit_not,furkan_not,buse_not);"
   ]
  },
  {
   "cell_type": "markdown",
   "metadata": {},
   "source": [
    "# 20- Object"
   ]
  },
  {
   "cell_type": "code",
   "execution_count": null,
   "metadata": {
    "vscode": {
     "languageId": "javascript"
    }
   },
   "outputs": [],
   "source": [
    "// let kullaniciA = {\n",
    "//     \"ad\" : \"Furkan\",\n",
    "//     \"soyad\" : \"GOLD\",\n",
    "//     \"yas\" : 22,\n",
    "//     \"adres\" : {\n",
    "//         \"sehir\" : \"Çankırı\",\n",
    "//         \"ilçe\" : \"Merkez\"\n",
    "//     },\n",
    "// }\n",
    "// let kullaniciB = {\n",
    "//     \"ad\" : \"Furkan\",\n",
    "//     \"soyad\" : \"GOLD\",\n",
    "//     \"yas\" : 22,\n",
    "//     \"adres\" : {\n",
    "//         \"sehir\" : \"Çankırı\",\n",
    "//         \"ilçe\" : \"Merkez\"\n",
    "//     },\n",
    "// }\n",
    "\n",
    "// let sonuc ;\n",
    "\n",
    "// sonuc = kullaniciA.ad;\n",
    "// sonuc = kullaniciA.yas;\n",
    "// sonuc =kullaniciA[\"yas\"];\n",
    "\n",
    "// let kullanicilar = [\n",
    "//     kullaniciA,\n",
    "//     kullaniciB\n",
    "// ];\n",
    "// sonuc =kullanicilar\n",
    "\n",
    "// let urunler = [\n",
    "//     {\n",
    "//         \"urun_adi\": \"samsung s22\",\n",
    "//         \"urun_fiyat\" : 13000\n",
    "//     },\n",
    "//     {\n",
    "//         \"urun_adi\": \"samsung s223\",\n",
    "//         \"urun_fiyat\" : 130220\n",
    "//     }\n",
    "// ]\n",
    "// sonuc = urunler[0].urun_adi;\n",
    "\n",
    "// console.log(sonuc);"
   ]
  },
  {
   "cell_type": "markdown",
   "metadata": {},
   "source": [
    "# 21- Uygulama: Object"
   ]
  },
  {
   "cell_type": "code",
   "execution_count": null,
   "metadata": {
    "vscode": {
     "languageId": "javascript"
    }
   },
   "outputs": [],
   "source": [
    "// let siparis_1 = {\n",
    "//     \"siparis_id\" : 101,\n",
    "//     \"siparis_tarihi\":\"30.12.2022\",\n",
    "//     \"odeme_sekli\": \"kredi kartı\",\n",
    "//     \"kargo_adresi\":{\n",
    "//         \"mahalle\":\"yahya kaptan\",\n",
    "//         \"ilce\" : \"izmit\",\n",
    "//         \"sehir\":\"kocaeli\"\n",
    "//     },\n",
    "//     \"urunler\":[\n",
    "//         {\n",
    "//             \"urun_id\" : 5,\n",
    "//             \"urun_adi\":\"Iphone 13 Pro\",\n",
    "//             \"urun_url\":\"http://abc.com/iphone-13-pro\",\n",
    "//             \"urun_fiyat\":22000\n",
    "//         },\n",
    "//         {\n",
    "//             \"urun_id\" : 6,\n",
    "//             \"urun_adi\":\"Iphone 13 Pro Max\",\n",
    "//             \"urun_url\":\"http://abc.com/iphone-13-pro-max\",\n",
    "//             \"urun_fiyat\":25000\n",
    "//         }\n",
    "//     ]\n",
    "// };\n",
    "// let siparis_2 = {\n",
    "//     \"siparis_id\" : 101,\n",
    "//     \"siparis_tarihi\":\"30.12.2022\",\n",
    "//     \"odeme_sekli\": \"kredi kartı\",\n",
    "//     \"kargo_adresi\":{\n",
    "//         \"mahalle\":\"yahya kaptan\",\n",
    "//         \"ilce\" : \"izmit\",\n",
    "//         \"sehir\":\"kocaeli\"\n",
    "//     },\n",
    "//     \"urunler\":[\n",
    "//         {\n",
    "//             \"urun_id\" : 6,\n",
    "//             \"urun_adi\":\"Iphone 13 Pro Max\",\n",
    "//             \"urun_url\":\"http://abc.com/iphone-13-pro-max\",\n",
    "//             \"urun_fiyat\":25000\n",
    "//         }\n",
    "//     ]\n",
    "// };\n",
    "\n",
    "// let siparis_1_toplam = (siparis_1.urunler[0].urun_fiyat + siparis_1.urunler[1].urun_fiyat) * 1.18;\n",
    "// let siparis_2_toplam = (siparis_2.urunler[0].urun_fiyat) * 1.18;\n",
    "\n",
    "// let toplam_siparis = siparis_1_toplam + siparis_2_toplam;\n",
    "\n",
    "// console.log(\"siparis 1: \"+ siparis_1_toplam);\n",
    "// console.log(\"siparis 2: \"+ siparis_2_toplam);\n",
    "// console.log(\"toplam ödenen miktar: \" , toplam_siparis);\n",
    "\n"
   ]
  },
  {
   "cell_type": "markdown",
   "metadata": {},
   "source": [
    "# 22-Döngüler"
   ]
  },
  {
   "cell_type": "code",
   "execution_count": null,
   "metadata": {
    "vscode": {
     "languageId": "javascript"
    }
   },
   "outputs": [],
   "source": [
    "// let toplam = 0;\n",
    "\n",
    "// for (let i = 1; i <= 10; i++ ){\n",
    "//     toplam += i;\n",
    "// }\n",
    "// console.log(toplam);\n",
    "\n",
    "// let sayilar = [1,3,4,5,4,2,12,4];\n",
    "// let toplam = 0;\n",
    "\n",
    "// for (let i = 0 ; i < sayilar.length; i ++ ){\n",
    "//     console.log(toplam += sayilar[i]);\n",
    "// }\n",
    "\n",
    "// for(let i in sayilar) { \n",
    "//     toplam += sayilar[i];\n",
    "// }\n",
    "\n",
    "// for (let sayi of sayilar) {\n",
    "//     toplam += sayi ;\n",
    "\n",
    "// }\n",
    "// console.log(toplam)\n",
    "\n",
    "\n",
    "// let user ={\n",
    "//     \"name\":\"Furkan Gold\",\n",
    "//     \"username\":\"furkangold\",\n",
    "//     \"password\": \"12345\",\n",
    "//     \"email\": \"info@furkangold\"\n",
    "// };\n",
    "// for (let key in user){\n",
    "//     console.log(key);\n",
    "//     console.log(user[key]);\n",
    "// }"
   ]
  },
  {
   "cell_type": "markdown",
   "metadata": {},
   "source": [
    "# 23- Uygulama: Döngüler "
   ]
  },
  {
   "cell_type": "code",
   "execution_count": null,
   "metadata": {
    "vscode": {
     "languageId": "javascript"
    }
   },
   "outputs": [],
   "source": [
    "// let sayilar = [1,5,7,15,3,25];\n",
    "\n",
    "// // //\n",
    "// // for(let sayi of sayilar ) {\n",
    "// //     console.log(sayi * sayi);\n",
    "// // }\n",
    "// // //\n",
    "// // for(let i=0; i <sayilar.length; i++){\n",
    "// //     if(sayilar[i] % 5 == 0){\n",
    "// //         console.log(sayilar[i]);\n",
    "// //     }\n",
    "// // }\n",
    "// // //\n",
    "// // let toplam = 0;\n",
    "// // for(let i in sayilar){\n",
    "// //     if (sayilar[i]%2 == 0){\n",
    "// //         toplam += sayilar[i];\n",
    "// //     }\n",
    "// // }\n",
    "// // console.log(toplam);\n",
    "// //\n",
    "// // let urunler =[\"iphone 12\",\"samsung s22\" , \"iphone 13\" , \"samsung s23\"];\n",
    "// // //\n",
    "// // for(let urun of urunler){\n",
    "// //     console.log(urun.toUpperCase());\n",
    "// // }\n",
    "// // //\n",
    "// // let adet = 0;\n",
    "// // for(let urun of urunler){\n",
    "// //     if(urun.includes(\"samsung\")){\n",
    "// //         adet++;\n",
    "// //     }\n",
    "// // }\n",
    "// // console.log(adet);\n",
    "// // //\n",
    "// let ogrenciler = [\n",
    "//     {\"ad\":\"yigit\",\"soyad\":\"bilgi\",\"notlar\":[60,70,60]},\n",
    "//     {\"ad\":\"Kaan\",\"soyad\":\"bilgihan\",\"notlar\":[60,70,60]},\n",
    "//     {\"ad\":\"Toru\",\"soyad\":\"bilge\",\"notlar\":[10,10,10]},\n",
    "// ]\n",
    "// //\n",
    "// for(let ogrenci of ogrenciler){\n",
    "//     let not_toplam = 0;\n",
    "//     let adet = 0;\n",
    "//     let ortalama = 0;\n",
    "//     for(let not of ogrenci.notlar){\n",
    "//         not_toplam += not ;\n",
    "//         adet ++;\n",
    "//     }\n",
    "//     ortalama = not_toplam / adet ;\n",
    "//     console.log(`${ogrenci.ad} ${ogrenci.soyad} isimli not ort. : ${ortalama}.`);\n",
    "    \n",
    "//     if(ortalama>50){\n",
    "//         console.log(\"başarılı.\");\n",
    "//     }else {\n",
    "//         console.log(\"başarısız.\")\n",
    "//     }\n",
    "// }"
   ]
  },
  {
   "cell_type": "markdown",
   "metadata": {},
   "source": [
    "# 24-Fonksiyonlar"
   ]
  },
  {
   "cell_type": "code",
   "execution_count": null,
   "metadata": {
    "vscode": {
     "languageId": "javascript"
    }
   },
   "outputs": [],
   "source": [
    "// function selamlama(msg){\n",
    "//     console.log(msg);\n",
    "// }\n",
    "// selamlama(\"selam\");\n",
    "\n",
    "// function yasHesapla(dogumYili){\n",
    "//     return new Date().getFullYear() - dogumYili;\n",
    "// }\n",
    "\n",
    "// let yasAhmet = yasHesapla(1985);\n",
    "\n",
    "// console.log(yasAhmet);\n",
    "\n",
    "// function emekliligeKacYilKaldi(dogumYili,isim){\n",
    "//     let yas = yasHesapla(dogumYili);\n",
    "//     let kalan_sene = 65 -yas;\n",
    "//     if (kalan_sene>0){\n",
    "//         console.log(`${isim},emekli olmanıza ${kalan_sene} yıl kaldı`);\n",
    "\n",
    "//     }else {\n",
    "//         console.log(\"zaten emeklisiniz\");\n",
    "//     }\n",
    "// }\n",
    "// emekliligeKacYilKaldi(1989,\"Ali\");"
   ]
  }
 ],
 "metadata": {
  "kernelspec": {
   "display_name": "Python 3",
   "language": "python",
   "name": "python3"
  },
  "language_info": {
   "codemirror_mode": {
    "name": "ipython",
    "version": 3
   },
   "file_extension": ".py",
   "mimetype": "text/x-python",
   "name": "python",
   "nbconvert_exporter": "python",
   "pygments_lexer": "ipython3",
   "version": "3.11.8"
  }
 },
 "nbformat": 4,
 "nbformat_minor": 2
}
