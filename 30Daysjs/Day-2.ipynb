{
 "cells": [
  {
   "cell_type": "markdown",
   "metadata": {},
   "source": [
    "Primitive"
   ]
  },
  {
   "cell_type": "code",
   "execution_count": null,
   "metadata": {
    "vscode": {
     "languageId": "javascript"
    }
   },
   "outputs": [],
   "source": [
    "let numOne = 3\n",
    "let numTwo = 3\n",
    "\n",
    "console.log(numOne == numTwo)  //True\n",
    "\n",
    "let js = \"JavaScript\"\n",
    "let py = \"Python\"\n",
    "\n",
    "console.log(js == py)  //False\n",
    "\n",
    "let lightOn = true\n",
    "let lightOff = false \n",
    "\n",
    "console.log (lightOn == lightOff) //False\n"
   ]
  },
  {
   "cell_type": "markdown",
   "metadata": {},
   "source": [
    "Non-Primitive"
   ]
  },
  {
   "cell_type": "code",
   "execution_count": null,
   "metadata": {
    "vscode": {
     "languageId": "javascript"
    }
   },
   "outputs": [],
   "source": [
    "let nums = [1, \"furkan\", 3 ]\n",
    "nums[1] = 10\n",
    "\n",
    "console.log(nums)           //1,10,3\n",
    "\n",
    "\n",
    "let nums1 = [1,2,3]\n",
    "let nums2 = [1,2,3]\n",
    "console.log(nums1 == nums2)  //false\n",
    "\n",
    "let user1 = {\n",
    "    name : \"furkan\",\n",
    "    last : \"GOLD\"\n",
    "}\n",
    "let user2 = user1 \n",
    "\n",
    "console.log(user1 == user2) //true\n",
    "\n"
   ]
  },
  {
   "cell_type": "markdown",
   "metadata": {},
   "source": [
    "Numbers"
   ]
  },
  {
   "cell_type": "code",
   "execution_count": null,
   "metadata": {
    "vscode": {
     "languageId": "javascript"
    }
   },
   "outputs": [],
   "source": [
    "let age = 22\n",
    "const gravity = 9.81\n",
    "let mass = 72 // mass in kilogram\n",
    "const PI = 3.14\n"
   ]
  },
  {
   "cell_type": "markdown",
   "metadata": {},
   "source": [
    "math object\n"
   ]
  },
  {
   "cell_type": "code",
   "execution_count": null,
   "metadata": {
    "vscode": {
     "languageId": "javascript"
    }
   },
   "outputs": [],
   "source": [
    "Math.round(5.49) // 5\n",
    "Math.floor(5.99) // 5\n",
    "Math.ceil(5.49) // 6\n",
    "\n",
    "Math.floor(Math.random() * 11)  //0-10\n",
    "\n"
   ]
  },
  {
   "cell_type": "markdown",
   "metadata": {},
   "source": [
    "Strings"
   ]
  },
  {
   "cell_type": "code",
   "execution_count": null,
   "metadata": {
    "vscode": {
     "languageId": "javascript"
    }
   },
   "outputs": [],
   "source": [
    "let name = \"furkan\"\n",
    "let last = \"GOLD\"\n",
    "\n",
    "// let fullName = name + \" \" + last\n",
    "let fullName = `${name} ${last}`\n",
    "\n",
    "console.log (fullName) // furkan GOLD"
   ]
  },
  {
   "cell_type": "code",
   "execution_count": null,
   "metadata": {
    "vscode": {
     "languageId": "javascript"
    }
   },
   "outputs": [],
   "source": [
    "let room = 'furkan\\'ın odası'\n",
    "console.log(room) // furkan'ın odası"
   ]
  },
  {
   "cell_type": "code",
   "execution_count": null,
   "metadata": {
    "vscode": {
     "languageId": "javascript"
    }
   },
   "outputs": [],
   "source": [
    "let a = 5\n",
    "let b = 4\n",
    "let toplam = `a + b = ${a+b}`\n",
    "\n",
    "console.log(toplam) //a+b = 9"
   ]
  },
  {
   "cell_type": "markdown",
   "metadata": {},
   "source": [
    "String Method"
   ]
  },
  {
   "cell_type": "code",
   "execution_count": null,
   "metadata": {
    "vscode": {
     "languageId": "javascript"
    }
   },
   "outputs": [],
   "source": [
    "let namelast = \"furkanGOLD\";\n",
    "console.log(namelast.substring(1,5));                   //urka\n",
    "\n",
    "let nname = \"Mustafa Furkan GOLD\";\n",
    "console.log(nname.split(\"\"));                        //'Mustafa', 'Furkan', 'GOLD' \n",
    "console.log(nname.trim());                          //MustafaFurkanGOLD\n",
    "console.log(nname.includes(\"Furkan\"));             //true \n",
    "console.log(nname.replace(\"Mustafa\",\"Muhammet\")); //Muhammet Furkan GOLD\n",
    "console.log(nname.indexOf(\"Furkan\"));            //8\n",
    "console.log(nname.lastIndexOf(\"Furkan\"));       //13"
   ]
  },
  {
   "cell_type": "markdown",
   "metadata": {},
   "source": [
    "match"
   ]
  },
  {
   "cell_type": "code",
   "execution_count": null,
   "metadata": {
    "vscode": {
     "languageId": "javascript"
    }
   },
   "outputs": [],
   "source": [
    "let string = \"Benim adım Furkan Çankırıda yaşıyorum\"\n",
    "//let patternOne = /adım/    // ['adım',index: 6,input: 'Benim adım Furkan Çankırıda yaşıyorum',groups: undefined]\n",
    "//let patternTwo = /adım/gi //g-means to search in the whole text, i - case insenssitive // [ 'adım' ]\n",
    "\n",
    "console.log(string.match(/adım/gi));"
   ]
  },
  {
   "cell_type": "code",
   "execution_count": null,
   "metadata": {
    "vscode": {
     "languageId": "javascript"
    }
   },
   "outputs": [],
   "source": []
  }
 ],
 "metadata": {
  "language_info": {
   "name": "python"
  }
 },
 "nbformat": 4,
 "nbformat_minor": 2
}
